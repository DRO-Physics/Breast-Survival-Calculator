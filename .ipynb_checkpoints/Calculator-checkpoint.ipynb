{
 "cells": [
  {
   "cell_type": "code",
   "execution_count": 1,
   "metadata": {},
   "outputs": [],
   "source": [
    "import ipywidgets as widgets\n",
    "from Survival_Calculator import Survival_Calculator\n",
    "from IPython.utils import io\n",
    "import matplotlib.pyplot as plt"
   ]
  },
  {
   "cell_type": "code",
   "execution_count": 2,
   "metadata": {},
   "outputs": [],
   "source": [
    "widget_T = widgets.Dropdown(\n",
    "    options=['0', '1', '2', '3', '4'],\n",
    "    value='0',\n",
    "    description='T Stage:',\n",
    "    disabled=False,\n",
    ")\n",
    "\n",
    "widget_N = widgets.Dropdown(\n",
    "    options=['0', '1', '2', '3'],\n",
    "    value='0',\n",
    "    description='N Stage:',\n",
    "    disabled=False,\n",
    ")\n",
    "\n",
    "widget_M = widgets.Dropdown(\n",
    "    options=['0', '1'],\n",
    "    value='0',\n",
    "    description='M Stage:',\n",
    "    disabled=False,\n",
    ")\n",
    "\n",
    "widget_grade = widgets.Dropdown(\n",
    "    options=['1', '2', '3'],\n",
    "    value='1',\n",
    "    description='Grade:',\n",
    "    disabled=False,\n",
    ")\n",
    "\n",
    "widget_er = widgets.Dropdown(\n",
    "    options=['Pos', 'Neg'],\n",
    "    value='Pos',\n",
    "    description='ER:',\n",
    "    disabled=False,\n",
    ")\n",
    "\n",
    "widget_pr = widgets.Dropdown(\n",
    "    options=['Pos', 'Neg'],\n",
    "    value='Pos',\n",
    "    description='PR:',\n",
    "    disabled=False,\n",
    ")\n",
    "\n",
    "widget_her2 = widgets.Dropdown(\n",
    "    options=['Pos', 'Neg'],\n",
    "    value='Pos',\n",
    "    description='HER2:',\n",
    "    disabled=False,\n",
    ")\n",
    "\n",
    "widget_invade = widgets.Dropdown(\n",
    "    options=['Yes', 'No'],\n",
    "    value='Yes',\n",
    "    description='Invasion:',\n",
    "    disabled=False,\n",
    ")\n",
    "\n",
    "widget_age = widgets.IntSlider(\n",
    "    value=30,\n",
    "    min=0,\n",
    "    max=100,\n",
    "    step=1,\n",
    "    description='Age:',\n",
    "    disabled=False,\n",
    "    continuous_update=False,\n",
    "    orientation='horizontal',\n",
    "    readout=True,\n",
    "    readout_format='d'\n",
    ")"
   ]
  },
  {
   "cell_type": "code",
   "execution_count": 6,
   "metadata": {},
   "outputs": [],
   "source": [
    "def Calculate(age, T, N, M1, grade, ER, PR, Her2, Invasion):\n",
    "    ER = (ER=='Pos') * 1.0\n",
    "    PR = (PR=='Pos') * 1.0\n",
    "    Her2 = (Her2=='Pos') * 1.0\n",
    "    Invasion = (Invasion=='Yes') * 1.0\n",
    "    with io.capture_output() as captured:\n",
    "        results_OS = Survival_Calculator(age, int(T), int(N), int(M1), int(grade), ER, PR, Her2, Invasion, 0,0).results_OS\n",
    "        results_CSS = Survival_Calculator(age, int(T), int(N), int(M1), int(grade), ER, PR, Her2, Invasion, 0,0).results_CSS\n",
    "#     print(results)\n",
    "    plt.plot(results_OS['time'], results_OS['s_mean'], 'r-', label='OS')\n",
    "    plt.fill_between(results_OS['time'], results_OS['s_mean']-results_OS['s_std'],  results_OS['s_mean']+results_OS['s_std'], alpha=0.4)\n",
    "    plt.plot(results_CSS['time'], results_CSS['s_mean'], 'm-', label='CSS')\n",
    "    plt.fill_between(results_CSS['time'], results_CSS['s_mean']-results_CSS['s_std'],  results_CSS['s_mean']+results_CSS['s_std'], alpha=0.4)\n",
    "    plt.legend()\n",
    "    plt.xlabel('Months')\n",
    "    plt.ylabel('Survival Probability')\n",
    "    plt.grid()\n",
    "    plt.tight_layout()\n",
    "    runtime = results_OS['runtime'] + results_CSS['runtime']\n",
    "    print('Total Run Time = %f seconds...'%runtime)"
   ]
  },
  {
   "cell_type": "code",
   "execution_count": 7,
   "metadata": {},
   "outputs": [],
   "source": [
    "ui = widgets.VBox([widget_T, widget_N, widget_M, widget_grade, widget_er, widget_pr, widget_her2, widget_invade, widget_age])"
   ]
  },
  {
   "cell_type": "code",
   "execution_count": 8,
   "metadata": {},
   "outputs": [
    {
     "data": {
      "application/vnd.jupyter.widget-view+json": {
       "model_id": "8a4973b6d6514a1ca20b754488a844d5",
       "version_major": 2,
       "version_minor": 0
      },
      "text/plain": [
       "VBox(children=(Dropdown(description='T Stage:', options=('0', '1', '2', '3', '4'), value='0'), Dropdown(descri…"
      ]
     },
     "metadata": {},
     "output_type": "display_data"
    },
    {
     "data": {
      "application/vnd.jupyter.widget-view+json": {
       "model_id": "3eb8420e3bd3485ca29832c21cd2558a",
       "version_major": 2,
       "version_minor": 0
      },
      "text/plain": [
       "Output()"
      ]
     },
     "metadata": {},
     "output_type": "display_data"
    }
   ],
   "source": [
    "out = widgets.interactive_output(Calculate, {'age': widget_age, 'T': widget_T, 'N': widget_N, \n",
    "        'M1': widget_M, 'grade': widget_grade, 'ER': widget_er, 'PR': widget_pr, 'Her2': widget_her2, 'Invasion': widget_invade})\n",
    "\n",
    "display(ui, out)"
   ]
  },
  {
   "cell_type": "code",
   "execution_count": null,
   "metadata": {},
   "outputs": [],
   "source": []
  },
  {
   "cell_type": "code",
   "execution_count": null,
   "metadata": {},
   "outputs": [],
   "source": []
  }
 ],
 "metadata": {
  "kernelspec": {
   "display_name": "Python 3",
   "language": "python",
   "name": "python3"
  },
  "language_info": {
   "codemirror_mode": {
    "name": "ipython",
    "version": 3
   },
   "file_extension": ".py",
   "mimetype": "text/x-python",
   "name": "python",
   "nbconvert_exporter": "python",
   "pygments_lexer": "ipython3",
   "version": "3.6.9"
  }
 },
 "nbformat": 4,
 "nbformat_minor": 4
}
