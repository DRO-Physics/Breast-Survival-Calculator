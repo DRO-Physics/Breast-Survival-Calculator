{
 "cells": [
  {
   "cell_type": "markdown",
   "metadata": {},
   "source": [
    "# AI-Driven Breast Cancer Survival Calculator"
   ]
  },
  {
   "cell_type": "code",
   "execution_count": 11,
   "metadata": {},
   "outputs": [],
   "source": [
    "%matplotlib widget\n",
    "import ipywidgets as widgets\n",
    "from Survival_Calculator import Survival_Calculator\n",
    "from IPython.utils import io\n",
    "import matplotlib.pyplot as plt"
   ]
  },
  {
   "cell_type": "code",
   "execution_count": 12,
   "metadata": {},
   "outputs": [],
   "source": [
    "widget_T = widgets.Dropdown(\n",
    "    options=['0', '1', '2', '3', '4'],\n",
    "    value='0',\n",
    "    description='T Stage:',\n",
    "    disabled=False,\n",
    ")\n",
    "\n",
    "widget_N = widgets.Dropdown(\n",
    "    options=['0', '1', '2', '3'],\n",
    "    value='0',\n",
    "    description='N Stage:',\n",
    "    disabled=False,\n",
    ")\n",
    "\n",
    "widget_M = widgets.Dropdown(\n",
    "    options=['0', '1'],\n",
    "    value='0',\n",
    "    description='M Stage:',\n",
    "    disabled=False,\n",
    ")\n",
    "\n",
    "widget_grade = widgets.Dropdown(\n",
    "    options=['1', '2', '3'],\n",
    "    value='1',\n",
    "    description='Grade:',\n",
    "    disabled=False,\n",
    ")\n",
    "\n",
    "widget_er = widgets.Dropdown(\n",
    "    options=['Pos', 'Neg'],\n",
    "    value='Pos',\n",
    "    description='ER:',\n",
    "    disabled=False,\n",
    ")\n",
    "\n",
    "widget_pr = widgets.Dropdown(\n",
    "    options=['Pos', 'Neg'],\n",
    "    value='Pos',\n",
    "    description='PR:',\n",
    "    disabled=False,\n",
    ")\n",
    "\n",
    "widget_her2 = widgets.Dropdown(\n",
    "    options=['Pos', 'Neg'],\n",
    "    value='Pos',\n",
    "    description='HER2:',\n",
    "    disabled=False,\n",
    ")\n",
    "\n",
    "widget_invade = widgets.Dropdown(\n",
    "    options=['Yes', 'No'],\n",
    "    value='Yes',\n",
    "    description='Invasion:',\n",
    "    disabled=False,\n",
    ")\n",
    "\n",
    "widget_age = widgets.IntSlider(\n",
    "    value=30,\n",
    "    min=0,\n",
    "    max=100,\n",
    "    step=1,\n",
    "    description='Age:',\n",
    "    disabled=False,\n",
    "    continuous_update=False,\n",
    "    orientation='horizontal',\n",
    "    readout=True,\n",
    "    readout_format='d'\n",
    ")\n",
    "\n",
    "widget_option = widgets.Dropdown(\n",
    "    options=['OS', 'CSS'],\n",
    "    value='OS',\n",
    "    description='Survival: ',\n",
    "    disabled=False,\n",
    ")\n"
   ]
  },
  {
   "cell_type": "code",
   "execution_count": 13,
   "metadata": {},
   "outputs": [],
   "source": [
    "def Calculate(age, T, N, M1, grade, ER, PR, Her2, Invasion, option):\n",
    "    plt.figure()\n",
    "    ER = (ER=='Pos') * 1.0\n",
    "    PR = (PR=='Pos') * 1.0\n",
    "    Her2 = (Her2=='Pos') * 1.0\n",
    "    Invasion = (Invasion=='Yes') * 1.0\n",
    "    with io.capture_output() as captured:\n",
    "        if option == 'OS':\n",
    "            results = Survival_Calculator(age, int(T), int(N), int(M1), int(grade), ER, PR, Her2, Invasion, 0,0, 'OS').results\n",
    "            plt.plot(results['time'], results['s_mean'], 'r-', label='OS')\n",
    "            plt.fill_between(results['time'], results['s_mean']-results['s_std'],  results['s_mean']+results['s_std'], alpha=0.4)\n",
    "        elif option == 'CSS':\n",
    "            results = Survival_Calculator(age, int(T), int(N), int(M1), int(grade), ER, PR, Her2, Invasion, 0,0, 'CSS').results\n",
    "            plt.plot(results['time'], results['s_mean'], 'm-', label='CSS')\n",
    "            plt.fill_between(results['time'], results['s_mean']-results['s_std'],  results['s_mean']+results['s_std'], alpha=0.4)\n",
    "            #     print(results)\n",
    "    plt.legend()\n",
    "    plt.xlabel('Months')\n",
    "    plt.ylabel('Survival Probability')\n",
    "    plt.grid()\n",
    "    plt.tight_layout()\n",
    "    runtime = results['runtime']\n",
    "    print('Total Run Time = %f seconds...'%runtime)"
   ]
  },
  {
   "cell_type": "code",
   "execution_count": 14,
   "metadata": {},
   "outputs": [],
   "source": [
    "ui = widgets.VBox([widget_option, widget_T, widget_N, widget_M, widget_grade, widget_er, widget_pr, widget_her2, widget_invade, widget_age])"
   ]
  },
  {
   "cell_type": "code",
   "execution_count": 15,
   "metadata": {},
   "outputs": [
    {
     "data": {
      "application/vnd.jupyter.widget-view+json": {
       "model_id": "8b99206d5cbc4512a216ddbde3d74b50",
       "version_major": 2,
       "version_minor": 0
      },
      "text/plain": [
       "VBox(children=(Dropdown(description='Survival: ', options=('OS', 'CSS'), value='OS'), Dropdown(description='T …"
      ]
     },
     "metadata": {},
     "output_type": "display_data"
    },
    {
     "data": {
      "application/vnd.jupyter.widget-view+json": {
       "model_id": "75838c006ecb48f38e749711a15c2633",
       "version_major": 2,
       "version_minor": 0
      },
      "text/plain": [
       "Output()"
      ]
     },
     "metadata": {},
     "output_type": "display_data"
    }
   ],
   "source": [
    "out = widgets.interactive_output(Calculate, {'option': widget_option, 'age': widget_age, 'T': widget_T, 'N': widget_N, \n",
    "        'M1': widget_M, 'grade': widget_grade, 'ER': widget_er, 'PR': widget_pr, 'Her2': widget_her2, 'Invasion': widget_invade})\n",
    "\n",
    "display(ui, out)"
   ]
  },
  {
   "cell_type": "code",
   "execution_count": null,
   "metadata": {},
   "outputs": [],
   "source": []
  },
  {
   "cell_type": "code",
   "execution_count": null,
   "metadata": {},
   "outputs": [],
   "source": []
  }
 ],
 "metadata": {
  "kernelspec": {
   "display_name": "Python 3",
   "language": "python",
   "name": "python3"
  },
  "language_info": {
   "codemirror_mode": {
    "name": "ipython",
    "version": 3
   },
   "file_extension": ".py",
   "mimetype": "text/x-python",
   "name": "python",
   "nbconvert_exporter": "python",
   "pygments_lexer": "ipython3",
   "version": "3.6.9"
  }
 },
 "nbformat": 4,
 "nbformat_minor": 4
}
